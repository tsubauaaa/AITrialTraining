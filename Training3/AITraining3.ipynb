{
  "nbformat": 4,
  "nbformat_minor": 0,
  "metadata": {
    "colab": {
      "name": "AITraining3.ipynb",
      "provenance": [],
      "collapsed_sections": [],
      "authorship_tag": "ABX9TyO9G2ZhUMP3BU20yxMNbiKL",
      "include_colab_link": true
    },
    "kernelspec": {
      "name": "python3",
      "display_name": "Python 3"
    },
    "accelerator": "GPU"
  },
  "cells": [
    {
      "cell_type": "markdown",
      "metadata": {
        "id": "view-in-github",
        "colab_type": "text"
      },
      "source": [
        "<a href=\"https://colab.research.google.com/github/tsubauaaa/AITrialTraining/blob/main/Training3/AITraining3.ipynb\" target=\"_parent\"><img src=\"https://colab.research.google.com/assets/colab-badge.svg\" alt=\"Open In Colab\"/></a>"
      ]
    },
    {
      "cell_type": "code",
      "metadata": {
        "colab": {
          "base_uri": "https://localhost:8080/"
        },
        "id": "VEvi8gKZ51qO",
        "outputId": "72ef4b60-95db-4f61-8edd-7f5cf94175bf"
      },
      "source": [
        " # Google Driveをマウントする\n",
        "from google.colab import drive\n",
        "drive.mount('/content/drive')"
      ],
      "execution_count": 2,
      "outputs": [
        {
          "output_type": "stream",
          "text": [
            "Drive already mounted at /content/drive; to attempt to forcibly remount, call drive.mount(\"/content/drive\", force_remount=True).\n"
          ],
          "name": "stdout"
        }
      ]
    },
    {
      "cell_type": "code",
      "metadata": {
        "colab": {
          "base_uri": "https://localhost:8080/"
        },
        "id": "Q_0hFdJwXF7w",
        "outputId": "972845d5-7ecb-4151-cd69-57e7b2113bae"
      },
      "source": [
        "# install MeCab\n",
        "!apt-get -q -y install sudo file mecab libmecab-dev mecab-ipadic-utf8 git curl python-mecab > /dev/null\n",
        "!git clone --depth 1 https://github.com/neologd/mecab-ipadic-neologd.git > /dev/null \n",
        "!echo yes | mecab-ipadic-neologd/bin/install-mecab-ipadic-neologd -n > /dev/null 2>&1\n",
        "!pip install mecab-python3 > /dev/null\n",
        "# check path to \"ipadic-neologd\"\n",
        "!echo `mecab-config --dicdir`\"/mecab-ipadic-neologd\"\n",
        "\n",
        "!ln -s /etc/mecabrc /usr/local/etc/mecabrc"
      ],
      "execution_count": 3,
      "outputs": [
        {
          "output_type": "stream",
          "text": [
            "Cloning into 'mecab-ipadic-neologd'...\n",
            "remote: Enumerating objects: 75, done.\u001b[K\n",
            "remote: Counting objects: 100% (75/75), done.\u001b[K\n",
            "remote: Compressing objects: 100% (74/74), done.\u001b[K\n",
            "remote: Total 75 (delta 5), reused 54 (delta 0), pack-reused 0\u001b[K\n",
            "Unpacking objects: 100% (75/75), done.\n",
            "/usr/lib/x86_64-linux-gnu/mecab/dic/mecab-ipadic-neologd\n"
          ],
          "name": "stdout"
        }
      ]
    },
    {
      "cell_type": "code",
      "metadata": {
        "id": "I1VKEi7usaW2"
      },
      "source": [
        "import json\n",
        "import gensim\n",
        "import MeCab\n",
        "import pandas as pd\n",
        "import re\n",
        "import torch\n",
        "import torch.nn as nn"
      ],
      "execution_count": 4,
      "outputs": []
    },
    {
      "cell_type": "code",
      "metadata": {
        "id": "OOnsQQhr5pky"
      },
      "source": [
        "decoder = json.JSONDecoder()\n",
        "all_datasets_list = []\n",
        "with open('/content/drive/My Drive/Colab Notebooks/AITraining/dataset_ja_dev.json') as f:\n",
        "    line = f.readline()\n",
        "    while line:\n",
        "        all_datasets_list.append(decoder.raw_decode(line)[0])\n",
        "        line = f.readline()"
      ],
      "execution_count": 5,
      "outputs": []
    },
    {
      "cell_type": "code",
      "metadata": {
        "id": "zFfnpT1G6rpW",
        "colab": {
          "base_uri": "https://localhost:8080/"
        },
        "outputId": "1306c2fc-b1f9-4535-e1f0-effc3bc4a520"
      },
      "source": [
        "all_datasets_list[1]"
      ],
      "execution_count": 6,
      "outputs": [
        {
          "output_type": "execute_result",
          "data": {
            "text/plain": [
              "{'language': 'ja',\n",
              " 'product_category': 'wireless',\n",
              " 'product_id': 'product_ja_0821731',\n",
              " 'review_body': 'ホームボタン周りの気泡が全く抜けません。 返金をお願いしましたが、断られた。',\n",
              " 'review_id': 'ja_0944897',\n",
              " 'review_title': '欠陥品',\n",
              " 'reviewer_id': 'reviewer_ja_0192786',\n",
              " 'stars': '1'}"
            ]
          },
          "metadata": {
            "tags": []
          },
          "execution_count": 6
        }
      ]
    },
    {
      "cell_type": "code",
      "metadata": {
        "colab": {
          "base_uri": "https://localhost:8080/",
          "height": 419
        },
        "id": "04UlblNH7dBK",
        "outputId": "8acbe6a0-0be3-49b3-d6d4-cb8c2cc48c76"
      },
      "source": [
        "datasets_list = []\n",
        "for data in all_datasets_list:\n",
        "    review_body = data['review_body']\n",
        "    stars = data['stars']\n",
        "    datasets_list.append([review_body, stars])\n",
        "datasets = pd.DataFrame(datasets_list, columns = ['review_body' , 'stars'])\n",
        "datasets"
      ],
      "execution_count": 7,
      "outputs": [
        {
          "output_type": "execute_result",
          "data": {
            "text/html": [
              "<div>\n",
              "<style scoped>\n",
              "    .dataframe tbody tr th:only-of-type {\n",
              "        vertical-align: middle;\n",
              "    }\n",
              "\n",
              "    .dataframe tbody tr th {\n",
              "        vertical-align: top;\n",
              "    }\n",
              "\n",
              "    .dataframe thead th {\n",
              "        text-align: right;\n",
              "    }\n",
              "</style>\n",
              "<table border=\"1\" class=\"dataframe\">\n",
              "  <thead>\n",
              "    <tr style=\"text-align: right;\">\n",
              "      <th></th>\n",
              "      <th>review_body</th>\n",
              "      <th>stars</th>\n",
              "    </tr>\n",
              "  </thead>\n",
              "  <tbody>\n",
              "    <tr>\n",
              "      <th>0</th>\n",
              "      <td>味自体及び吸い心地は良いのだが、不良品が多過ぎる。私の場合５本のうち２本が蒸気も出ず、吸い込...</td>\n",
              "      <td>1</td>\n",
              "    </tr>\n",
              "    <tr>\n",
              "      <th>1</th>\n",
              "      <td>ホームボタン周りの気泡が全く抜けません。 返金をお願いしましたが、断られた。</td>\n",
              "      <td>1</td>\n",
              "    </tr>\n",
              "    <tr>\n",
              "      <th>2</th>\n",
              "      <td>新旧含めて4つのカーテンレールがあるのですが、使用出来るカーテンレールはありませんでした。 ...</td>\n",
              "      <td>1</td>\n",
              "    </tr>\n",
              "    <tr>\n",
              "      <th>3</th>\n",
              "      <td>予約注文でしたが、どこから特典であるpdfダウンロードすればよいのでしょうか…</td>\n",
              "      <td>1</td>\n",
              "    </tr>\n",
              "    <tr>\n",
              "      <th>4</th>\n",
              "      <td>前のレビューにもありましたが、片方が全く動きません。 返品しようにも、なんだかめんどくさいし...</td>\n",
              "      <td>1</td>\n",
              "    </tr>\n",
              "    <tr>\n",
              "      <th>...</th>\n",
              "      <td>...</td>\n",
              "      <td>...</td>\n",
              "    </tr>\n",
              "    <tr>\n",
              "      <th>4995</th>\n",
              "      <td>ミニオンが好きで、息子に買いました。 親子で楽しく遊んでます。</td>\n",
              "      <td>5</td>\n",
              "    </tr>\n",
              "    <tr>\n",
              "      <th>4996</th>\n",
              "      <td>まずレーザーの光が強いw 昔 ゲーセンで取ったヤツの3倍くらい 暗闇でレーザーの光が当たった...</td>\n",
              "      <td>5</td>\n",
              "    </tr>\n",
              "    <tr>\n",
              "      <th>4997</th>\n",
              "      <td>色もち、発色もよく、ティントによくある\"激しい唇の荒れ\"が少ないのでとても使いやすいなと思い...</td>\n",
              "      <td>5</td>\n",
              "    </tr>\n",
              "    <tr>\n",
              "      <th>4998</th>\n",
              "      <td>1年前に別メーカーのバッテリーを交換して、使えましたが、スマホ確認のところで認識さらませんで...</td>\n",
              "      <td>5</td>\n",
              "    </tr>\n",
              "    <tr>\n",
              "      <th>4999</th>\n",
              "      <td>前なら剃った次の日はまた、ポツポツでそれを抜いてましたがポツポツがありません！</td>\n",
              "      <td>5</td>\n",
              "    </tr>\n",
              "  </tbody>\n",
              "</table>\n",
              "<p>5000 rows × 2 columns</p>\n",
              "</div>"
            ],
            "text/plain": [
              "                                            review_body stars\n",
              "0     味自体及び吸い心地は良いのだが、不良品が多過ぎる。私の場合５本のうち２本が蒸気も出ず、吸い込...     1\n",
              "1                ホームボタン周りの気泡が全く抜けません。 返金をお願いしましたが、断られた。     1\n",
              "2     新旧含めて4つのカーテンレールがあるのですが、使用出来るカーテンレールはありませんでした。 ...     1\n",
              "3               予約注文でしたが、どこから特典であるpdfダウンロードすればよいのでしょうか…     1\n",
              "4     前のレビューにもありましたが、片方が全く動きません。 返品しようにも、なんだかめんどくさいし...     1\n",
              "...                                                 ...   ...\n",
              "4995                    ミニオンが好きで、息子に買いました。 親子で楽しく遊んでます。     5\n",
              "4996  まずレーザーの光が強いw 昔 ゲーセンで取ったヤツの3倍くらい 暗闇でレーザーの光が当たった...     5\n",
              "4997  色もち、発色もよく、ティントによくある\"激しい唇の荒れ\"が少ないのでとても使いやすいなと思い...     5\n",
              "4998  1年前に別メーカーのバッテリーを交換して、使えましたが、スマホ確認のところで認識さらませんで...     5\n",
              "4999            前なら剃った次の日はまた、ポツポツでそれを抜いてましたがポツポツがありません！     5\n",
              "\n",
              "[5000 rows x 2 columns]"
            ]
          },
          "metadata": {
            "tags": []
          },
          "execution_count": 7
        }
      ]
    },
    {
      "cell_type": "code",
      "metadata": {
        "id": "sC1UjH2W6yge"
      },
      "source": [
        "tagger = MeCab.Tagger(\"-Owakati\")\n",
        "# param: dataset_list[]['review_body']\n",
        "# return: 分かちした単語のリスト\n",
        "def make_wakati(sentence):\n",
        "    # MeCabで分かち書き\n",
        "    sentence = tagger.parse(sentence)\n",
        "    # 半角全角英数字除去\n",
        "    sentence = re.sub(r'[0-9０-９a-zA-Zａ-ｚＡ-Ｚ]+', \" \", sentence)\n",
        "    # 記号もろもろ除去\n",
        "    sentence = re.sub(r'[\\．_－―─！＠＃＄％＾＆\\-‐|\\\\＊\\“（）＿■×+α※÷⇒—●★☆〇◎◆▼◇△□(：〜～＋=)／*&^%$#@!~`){}［］…\\[\\]\\\"\\'\\”\\’:;<>?＜＞〔〕〈〉？、。・,\\./『』【】「」→←○《》≪≫\\n\\u3000]+', \"\", sentence)\n",
        "    # スペースで区切って形態素の配列へ\n",
        "    wakati = sentence.split(\" \")\n",
        "    # 空の要素は削除\n",
        "    wakati = list(filter((\"\").__ne__, wakati))\n",
        "    return wakati"
      ],
      "execution_count": 8,
      "outputs": []
    },
    {
      "cell_type": "code",
      "metadata": {
        "colab": {
          "base_uri": "https://localhost:8080/"
        },
        "id": "nAOqxOpxhe6s",
        "outputId": "ce022ce0-8929-4c44-c696-b5b3bcd9b0e0"
      },
      "source": [
        "# w2vする\n",
        "w2v_model = gensim.models.Word2Vec.load('/content/drive/My Drive/Colab Notebooks/AITraining/w2v/w2v.model')\n",
        "word2vec = {}\n",
        "no_words = []\n",
        "for dataset in datasets_list:\n",
        "    wakati = make_wakati(dataset[0])\n",
        "    for word in wakati:\n",
        "        if word in word2vec:\n",
        "            continue\n",
        "        if word not in list(w2v_model.wv.vocab):\n",
        "            no_words.append(word)\n",
        "            continue\n",
        "        word2vec[word] = w2v_model.wv[word]\n",
        "print(len(word2vec))\n",
        "print(len(no_words))"
      ],
      "execution_count": 9,
      "outputs": [
        {
          "output_type": "stream",
          "text": [
            "12739\n",
            "711\n"
          ],
          "name": "stdout"
        }
      ]
    },
    {
      "cell_type": "code",
      "metadata": {
        "id": "N-Q4mAMD1xHs"
      },
      "source": [
        "# 単語をベクトルデータに変換\n",
        "# PyTorchのLSTMのインプットになるデータなので、もちろんtensor型で\n",
        "def sentence2vec(sentence):\n",
        "    wakati = make_wakati(sentence)\n",
        "    return torch.tensor([word2vec[w] for w in wakati])"
      ],
      "execution_count": 10,
      "outputs": []
    },
    {
      "cell_type": "code",
      "metadata": {
        "id": "egd-cKlV12PD"
      },
      "source": [
        "device = torch.device(\"cuda\" if torch.cuda.is_available() else \"cpu\")\n",
        "\n",
        "# nn.Moduleを継承して新しいクラスを作る。決まり文句\n",
        "class LSTMRegressor(nn.Module):\n",
        "    # モデルで使う各ネットワークをコンストラクタで定義\n",
        "    def __init__(self, embedding_dim, hidden_dim):\n",
        "        # 親クラスのコンストラクタ。決まり文句\n",
        "        super(LSTMRegressor, self).__init__()\n",
        "        # 隠れ層の次元数。これは好きな値に設定しても行列計算の過程で出力には出てこないので。\n",
        "        self.hidden_dim = hidden_dim\n",
        "        # LSTMの隠れ層。これ１つでOK。超便利。\n",
        "        self.lstm = nn.LSTM(embedding_dim, hidden_dim)\n",
        "        # LSTMの出力を受け取って全結合してsoftmaxに食わせるための１層のネットワーク\n",
        "        self.out = nn.Linear(hidden_dim, 1)\n",
        "\n",
        "    # 順伝播処理はforward関数に記載\n",
        "    def forward(self, sentence):\n",
        "        # 2次元テンソルをLSTMに食わせられる様にviewで３次元テンソルにした上でLSTMへ流す。\n",
        "        # 上記で説明した様にmany to oneのタスクを解きたいので、第二戻り値だけ使う。\n",
        "        _, lstm_out = self.lstm(sentence)\n",
        "        # lstm_out[0]は３次元テンソルになってしまっているので2次元に調整して全結合。\n",
        "        output = self.out(lstm_out[0].view(-1, self.hidden_dim))\n",
        "        return output"
      ],
      "execution_count": 11,
      "outputs": []
    },
    {
      "cell_type": "code",
      "metadata": {
        "colab": {
          "base_uri": "https://localhost:8080/"
        },
        "id": "kJ_DZmzN2Lac",
        "outputId": "2265c13f-cfd0-4765-d680-1860e1d292b0"
      },
      "source": [
        "EMBEDDING_DIM = 200\n",
        "HIDDEN_DIM = 128\n",
        "lstm = LSTMRegressor(EMBEDDING_DIM, HIDDEN_DIM)\n",
        "s1 = datasets_list[0][0]\n",
        "s2 = datasets_list[0][1]\n",
        "print(s1)\n",
        "# 味自体及び吸い心地は良いのだが、不良品が多過ぎる。私の場合５本のうち２本が蒸気も出ず、吸い込み も出来なかった。腹が立ってごみ箱行きでした。こんなものは２度と購入する気はない。 返品するのも交渉するのも、金額も金額だからと面倒くさがってしない方が多いのではないか？ 最初から不良品多しとでも表記しておいたら如何？\n",
        "print(make_wakati(s1))\n",
        "# ['味', '自体', '及び', '吸い', '心地', 'は', '良い', 'の', 'だ', 'が', '不', '良品', 'が', '多', '過ぎる', '私', 'の', '場合', '本', 'の', 'うち', '本', 'が', '蒸気', 'も', '出', 'ず', '吸い込み', 'も', '出来', 'なかっ', 'た', '腹', 'が', '立っ', 'て', 'ごみ箱', '行き', 'でし', 'た', 'こんな', 'もの', 'は', '度', 'と', '購入', 'する', '気', 'は', 'ない', '返品', 'する', 'の', 'も', '交渉', 'する', 'の', 'も', '金額', 'も', '金額', 'だ', 'から', 'と', '面倒く', 'さ', 'がっ', 'て', 'し', 'ない', '方', 'が', '多い', 'の', 'で', 'は', 'ない', 'か', '最初', 'から', '不', '良品', '多し', 'と', 'でも', '表記', 'し', 'て', 'おい', 'たら', '如何']\n",
        "\n",
        "inputs1 = sentence2vec(s1)\n",
        "print(inputs1)\n",
        "out = lstm(inputs1.view(len(inputs1), 1, -1))\n",
        "print(out)\n",
        "print(s2)"
      ],
      "execution_count": 12,
      "outputs": [
        {
          "output_type": "stream",
          "text": [
            "味自体及び吸い心地は良いのだが、不良品が多過ぎる。私の場合５本のうち２本が蒸気も出ず、吸い込み も出来なかった。腹が立ってごみ箱行きでした。こんなものは２度と購入する気はない。 返品するのも交渉するのも、金額も金額だからと面倒くさがってしない方が多いのではないか？ 最初から不良品多しとでも表記しておいたら如何？\n",
            "['味', '自体', '及び', '吸い', '心地', 'は', '良い', 'の', 'だ', 'が', '不', '良品', 'が', '多', '過ぎる', '私', 'の', '場合', '本', 'の', 'うち', '本', 'が', '蒸気', 'も', '出', 'ず', '吸い込み', 'も', '出来', 'なかっ', 'た', '腹', 'が', '立っ', 'て', 'ごみ箱', '行き', 'でし', 'た', 'こんな', 'もの', 'は', '度', 'と', '購入', 'する', '気', 'は', 'ない', '返品', 'する', 'の', 'も', '交渉', 'する', 'の', 'も', '金額', 'も', '金額', 'だ', 'から', 'と', '面倒く', 'さ', 'がっ', 'て', 'し', 'ない', '方', 'が', '多い', 'の', 'で', 'は', 'ない', 'か', '最初', 'から', '不', '良品', '多し', 'と', 'でも', '表記', 'し', 'て', 'おい', 'たら', '如何']\n",
            "tensor([[-0.4999, -0.6908, -2.5520,  ...,  1.2527, -0.7275,  0.6183],\n",
            "        [ 0.3367,  0.8707, -0.7007,  ...,  0.4871,  0.3114, -0.0030],\n",
            "        [ 1.1938, -0.3116,  0.3566,  ...,  2.1716,  1.3614, -1.0291],\n",
            "        ...,\n",
            "        [-0.6864, -1.0068,  1.2038,  ..., -1.4014, -1.4441,  1.2285],\n",
            "        [-0.6333, -2.3974, -0.3745,  ..., -1.2556, -2.5141, -1.6721],\n",
            "        [-0.1302,  0.5549,  0.0820,  ..., -1.7729, -0.4356,  0.1791]])\n",
            "tensor([[0.0280]], grad_fn=<AddmmBackward>)\n",
            "1\n"
          ],
          "name": "stdout"
        }
      ]
    },
    {
      "cell_type": "code",
      "metadata": {
        "colab": {
          "base_uri": "https://localhost:8080/"
        },
        "id": "Kv1lVDDt38wy",
        "outputId": "5e8d4719-9593-4b77-8e69-2109da5f8cfb"
      },
      "source": [
        "len_datasets = len(datasets_list)\n",
        "# starsをtensorにする\n",
        "category2index = {}\n",
        "for i in range(len_datasets):\n",
        "    star = datasets_list[i][1]\n",
        "    if star in category2index: continue\n",
        "    category2index[star] = len(category2index)\n",
        "print(category2index)\n",
        "\n",
        "def category2tensor(star):\n",
        "    return torch.tensor([category2index[star]], dtype=torch.float)\n",
        "\n",
        "print(category2tensor(\"2\"))"
      ],
      "execution_count": 13,
      "outputs": [
        {
          "output_type": "stream",
          "text": [
            "{'1': 0, '2': 1, '3': 2, '4': 3, '5': 4}\n",
            "tensor([1.])\n"
          ],
          "name": "stdout"
        }
      ]
    },
    {
      "cell_type": "code",
      "metadata": {
        "colab": {
          "base_uri": "https://localhost:8080/"
        },
        "id": "YsoIFDE06TFP",
        "outputId": "fb461f3d-1ed2-425a-926f-8b9a065bffc8"
      },
      "source": [
        "from sklearn.model_selection import train_test_split\n",
        "import torch.optim as optim\n",
        "# 元データを7:3に分ける（7->学習、3->テスト）\n",
        "traindata, testdata = train_test_split(datasets, train_size=0.7, shuffle=True)\n",
        "# 単語のベクトル次元数\n",
        "EMBEDDING_DIM = 200\n",
        "# 隠れ層の次元数\n",
        "HIDDEN_DIM = 128\n",
        "# モデル宣言\n",
        "model = LSTMRegressor(EMBEDDING_DIM, HIDDEN_DIM).to(device)\n",
        "# 損失関数はNLLLoss()を使う。LogSoftmaxを使う時はこれを使うらしい。\n",
        "loss_function = nn.MSELoss()\n",
        "# 最適化の手法はSGDで。lossの減りに時間かかるけど、一旦はこれを使う。\n",
        "optimizer = optim.SGD(model.parameters(), lr=0.01)\n",
        "\n",
        "# 各エポックの合計loss値を格納する\n",
        "losses = []\n",
        "for epoch in range(100):\n",
        "    all_loss = 0\n",
        "    for review, star in zip(traindata[\"review_body\"], traindata[\"stars\"]):\n",
        "        # モデルが持ってる勾配の情報をリセット\n",
        "        model.zero_grad()\n",
        "        # 文章を単語IDの系列に変換（modelに食わせられる形に変換）\n",
        "        try:\n",
        "            inputs = sentence2vec(review).to(device)\n",
        "        except KeyError:\n",
        "            continue\n",
        "        # 順伝播の結果を受け取る\n",
        "        out = model(inputs.view(len(inputs), 1, -1))\n",
        "        # 正解カテゴリをテンソル化\n",
        "        answer = category2tensor(star).to(device)\n",
        "        # 正解とのlossを計算\n",
        "        loss = loss_function(out, answer)\n",
        "        # 勾配をセット\n",
        "        loss.backward()\n",
        "        # 逆伝播でパラメータ更新\n",
        "        optimizer.step()\n",
        "        # lossを集計\n",
        "        all_loss += loss.item()\n",
        "    losses.append(all_loss)\n",
        "    print(\"epoch\", epoch, \"\\t\" , \"loss\", all_loss)\n",
        "print(\"done.\")"
      ],
      "execution_count": 14,
      "outputs": [
        {
          "output_type": "stream",
          "text": [
            "/usr/local/lib/python3.7/dist-packages/torch/nn/modules/loss.py:528: UserWarning: Using a target size (torch.Size([1])) that is different to the input size (torch.Size([1, 1])). This will likely lead to incorrect results due to broadcasting. Please ensure they have the same size.\n",
            "  return F.mse_loss(input, target, reduction=self.reduction)\n"
          ],
          "name": "stderr"
        },
        {
          "output_type": "stream",
          "text": [
            "epoch 0 \t loss 5317.967649936757\n",
            "epoch 1 \t loss 4033.187906642862\n",
            "epoch 2 \t loss 3483.67838528345\n",
            "epoch 3 \t loss 2926.4702326237552\n",
            "epoch 4 \t loss 2542.100880317967\n",
            "epoch 5 \t loss 2105.488288227733\n",
            "epoch 6 \t loss 1737.4972628120784\n",
            "epoch 7 \t loss 1526.4240797292018\n",
            "epoch 8 \t loss 1294.956155272608\n",
            "epoch 9 \t loss 1033.9920587343122\n",
            "epoch 10 \t loss 885.817691732648\n",
            "epoch 11 \t loss 704.7961371352092\n",
            "epoch 12 \t loss 568.0442358971792\n",
            "epoch 13 \t loss 482.22400516949045\n",
            "epoch 14 \t loss 420.17195611822314\n",
            "epoch 15 \t loss 356.3754131910427\n",
            "epoch 16 \t loss 305.2684133986606\n",
            "epoch 17 \t loss 258.6660055110502\n",
            "epoch 18 \t loss 223.57395159684\n",
            "epoch 19 \t loss 203.39346838373945\n",
            "epoch 20 \t loss 176.56467351534553\n",
            "epoch 21 \t loss 152.5184159921095\n",
            "epoch 22 \t loss 125.98299751213143\n",
            "epoch 23 \t loss 107.58991707471597\n",
            "epoch 24 \t loss 92.54088241339088\n",
            "epoch 25 \t loss 80.26104997906734\n",
            "epoch 26 \t loss 71.87922615033379\n",
            "epoch 27 \t loss 66.84867324163491\n",
            "epoch 28 \t loss 62.32904485324491\n",
            "epoch 29 \t loss 59.17819523477175\n",
            "epoch 30 \t loss 54.92071744380033\n",
            "epoch 31 \t loss 46.601259240606694\n",
            "epoch 32 \t loss 42.89523427506069\n",
            "epoch 33 \t loss 40.60894558369998\n",
            "epoch 34 \t loss 36.73222624030777\n",
            "epoch 35 \t loss 29.87914739867455\n",
            "epoch 36 \t loss 25.785183691495803\n",
            "epoch 37 \t loss 23.288433983817797\n",
            "epoch 38 \t loss 21.640993103021017\n",
            "epoch 39 \t loss 21.818522394512602\n",
            "epoch 40 \t loss 20.91959092658044\n",
            "epoch 41 \t loss 20.04639646326352\n",
            "epoch 42 \t loss 18.46117254026966\n",
            "epoch 43 \t loss 17.519176781934007\n",
            "epoch 44 \t loss 16.239624198832914\n",
            "epoch 45 \t loss 14.967875308654229\n",
            "epoch 46 \t loss 13.6240284145819\n",
            "epoch 47 \t loss 13.01172662533179\n",
            "epoch 48 \t loss 11.410679968538787\n",
            "epoch 49 \t loss 10.851854097424678\n",
            "epoch 50 \t loss 10.352311930933354\n",
            "epoch 51 \t loss 9.268498816645195\n",
            "epoch 52 \t loss 9.051123220099395\n",
            "epoch 53 \t loss 7.985149244372991\n",
            "epoch 54 \t loss 7.530399127323001\n",
            "epoch 55 \t loss 6.746655388578123\n",
            "epoch 56 \t loss 6.422956115532333\n",
            "epoch 57 \t loss 5.943833831554333\n",
            "epoch 58 \t loss 5.3374214595519724\n",
            "epoch 59 \t loss 5.00420879944221\n",
            "epoch 60 \t loss 4.427083188412595\n",
            "epoch 61 \t loss 4.083563683685984\n",
            "epoch 62 \t loss 3.7065636620349416\n",
            "epoch 63 \t loss 3.379404247335504\n",
            "epoch 64 \t loss 3.2776219089278555\n",
            "epoch 65 \t loss 3.106483762381856\n",
            "epoch 66 \t loss 3.028019915695527\n",
            "epoch 67 \t loss 2.94616614267143\n",
            "epoch 68 \t loss 2.8827270761185844\n",
            "epoch 69 \t loss 2.6810845570569093\n",
            "epoch 70 \t loss 2.614494128126026\n",
            "epoch 71 \t loss 2.398629946371017\n",
            "epoch 72 \t loss 2.2668127814715042\n",
            "epoch 73 \t loss 2.132676288449364\n",
            "epoch 74 \t loss 2.066353159927626\n",
            "epoch 75 \t loss 1.919536941710792\n",
            "epoch 76 \t loss 1.7971485861808318\n",
            "epoch 77 \t loss 1.6564744905477546\n",
            "epoch 78 \t loss 1.5545912369846313\n",
            "epoch 79 \t loss 1.3876609637897346\n",
            "epoch 80 \t loss 1.3298851359136492\n",
            "epoch 81 \t loss 1.2358444563086515\n",
            "epoch 82 \t loss 1.2311475368181526\n",
            "epoch 83 \t loss 1.1794340999231387\n",
            "epoch 84 \t loss 1.14379065202575\n",
            "epoch 85 \t loss 1.0602267052579748\n",
            "epoch 86 \t loss 1.0054914210221817\n",
            "epoch 87 \t loss 0.927189262478926\n",
            "epoch 88 \t loss 0.8690328305206876\n",
            "epoch 89 \t loss 0.8042303243722557\n",
            "epoch 90 \t loss 0.7678824367377821\n",
            "epoch 91 \t loss 0.7122420579940432\n",
            "epoch 92 \t loss 0.6968041874790778\n",
            "epoch 93 \t loss 0.6510336744292538\n",
            "epoch 94 \t loss 0.6364167183497962\n",
            "epoch 95 \t loss 0.6186799709451236\n",
            "epoch 96 \t loss 0.6121941445070114\n",
            "epoch 97 \t loss 0.6171512580744505\n",
            "epoch 98 \t loss 0.6306529307112179\n",
            "epoch 99 \t loss 0.6439860150805679\n",
            "done.\n"
          ],
          "name": "stdout"
        }
      ]
    },
    {
      "cell_type": "code",
      "metadata": {
        "colab": {
          "base_uri": "https://localhost:8080/",
          "height": 282
        },
        "id": "F1OrN0w07AA0",
        "outputId": "df10fed9-ff89-4164-c5aa-12424f261aa7"
      },
      "source": [
        "import matplotlib.pyplot as plt\n",
        "%matplotlib inline\n",
        "plt.plot(losses)"
      ],
      "execution_count": 15,
      "outputs": [
        {
          "output_type": "execute_result",
          "data": {
            "text/plain": [
              "[<matplotlib.lines.Line2D at 0x7f014c4371d0>]"
            ]
          },
          "metadata": {
            "tags": []
          },
          "execution_count": 15
        },
        {
          "output_type": "display_data",
          "data": {
            "image/png": "[encoded data removed]",
            "text/plain": [
              "<Figure size 432x288 with 1 Axes>"
            ]
          },
          "metadata": {
            "tags": [],
            "needs_background": "light"
          }
        }
      ]
    },
    {
      "cell_type": "code",
      "metadata": {
        "colab": {
          "base_uri": "https://localhost:8080/"
        },
        "id": "q0HAS8SmI5kR",
        "outputId": "b360f9e2-b0b1-4e3f-9a98-6fd99c9fa2d0"
      },
      "source": [
        "from sklearn.metrics import mean_absolute_error\n",
        "\n",
        "# テストデータの母数計算(1500)\n",
        "test_num = len(testdata)\n",
        "skip_num = 0\n",
        "# 正解の件数\n",
        "match = 0\n",
        "# 絶対誤差用\n",
        "y_preds = []\n",
        "y_true = []\n",
        "# 勾配自動計算OFF\n",
        "with torch.no_grad():\n",
        "    for review, star in zip(testdata[\"review_body\"], testdata[\"stars\"]):\n",
        "        # テストデータの予測\n",
        "        try:\n",
        "            inputs = sentence2vec(review).to(device)\n",
        "        except KeyError:\n",
        "            skip_num += 1\n",
        "            continue\n",
        "        out = model(inputs.view(len(inputs), 1, -1))\n",
        "        y_preds.append(out.item())\n",
        "        y_true.append(int(star))\n",
        "\n",
        "        # outを四捨五入して一致数を数える\n",
        "        predict = torch.round(out).to(device)\n",
        "        if predict < 0:\n",
        "            predict = torch.tensor(0).to(device)\n",
        "        elif predict > 4:\n",
        "            predict = torch.tensor(4).to(device)\n",
        "\n",
        "        answer = category2tensor(star).to(device)\n",
        "        if predict == answer:\n",
        "            match += 1\n",
        "tested_num = test_num - skip_num\n",
        "mae = mean_absolute_error(y_true, y_preds)\n",
        "print(f\"Correct answer rate: {match / tested_num}, match: {match}, tested_num: {tested_num}\")\n",
        "print(f\"Mean Absolute Error: {mae}\")"
      ],
      "execution_count": 21,
      "outputs": [
        {
          "output_type": "stream",
          "text": [
            "Correct answer rate: 0.3368660105980318, match: 445, tested_num: 1321\n",
            "Mean Absolute Error: 1.2965448602503848\n"
          ],
          "name": "stdout"
        }
      ]
    },
    {
      "cell_type": "code",
      "metadata": {
        "id": "X0ONhxHb6K0b"
      },
      "source": [
        ""
      ],
      "execution_count": null,
      "outputs": []
    }
  ]
}